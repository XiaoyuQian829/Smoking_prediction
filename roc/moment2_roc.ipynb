{
 "cells": [
  {
   "cell_type": "code",
   "execution_count": 1,
   "metadata": {},
   "outputs": [
    {
     "name": "stdout",
     "output_type": "stream",
     "text": [
      "Prediction AUC:  0.8125854700854702\n",
      "prediction AUC:  0.8125213675213675\n",
      "prediction AUC:  0.8122435897435897\n",
      "prediction AUC:  0.8125641025641026\n",
      "prediction AUC:  0.7256410256410255\n",
      "prediction AUC:  0.7251602564102564\n",
      "prediction AUC:  0.7163461538461539\n",
      "prediction AUC:  0.71875\n"
     ]
    },
    {
     "data": {
      "text/plain": [
       "<Figure size 3000x3000 with 1 Axes>"
      ]
     },
     "metadata": {},
     "output_type": "display_data"
    }
   ],
   "source": [
    "import pandas as pd\n",
    "import numpy as np\n",
    "import matplotlib\n",
    "import matplotlib.pyplot as plt\n",
    "from sklearn import preprocessing\n",
    "from sklearn.metrics import roc_curve, auc\n",
    "label = pd.read_csv(\"/Users/qianxiaoyu/Desktop/smoke_final/predictions/LBC21_smoking.csv\", sep=\",\", header=0).iloc[:,-1].to_numpy()\n",
    "ols = pd.read_csv(\"/Users/qianxiaoyu/Desktop/smoke_final/predictions/MOMENT2+OLS.csv\", sep=\",\", header=0).iloc[:,-1].to_numpy()\n",
    "ridge = pd.read_csv(\"/Users/qianxiaoyu/Desktop/smoke_final/predictions/MOMENT2+Ridge.csv\", sep=\",\", header=0).iloc[:,-1].to_numpy()\n",
    "lasso = pd.read_csv(\"/Users/qianxiaoyu/Desktop/smoke_final/predictions/MOMENT2+Lasso.csv\", sep=\",\", header=0).iloc[:,-1].to_numpy()\n",
    "elnet = pd.read_csv(\"/Users/qianxiaoyu/Desktop/smoke_final/predictions/MOMENT2+ElasticNet.csv\", sep=\",\", header=0).iloc[:,-1].to_numpy()\n",
    "svc = pd.read_csv(\"/Users/qianxiaoyu/Desktop/smoke_final/predictions/MOMENT2+SVM.csv\", sep=\",\", header=0).iloc[:,-1].to_numpy()\n",
    "rf = pd.read_csv(\"/Users/qianxiaoyu/Desktop/smoke_final/predictions/MOMENT2+RF.csv\", sep=\",\", header=0).iloc[:,-1].to_numpy()\n",
    "gbm = pd.read_csv(\"/Users/qianxiaoyu/Desktop/smoke_final/predictions/MOMENT2+GBM.csv\", sep=\",\", header=0).iloc[:,-1].to_numpy()\n",
    "mlp_raw = pd.read_csv(\"/Users/qianxiaoyu/Desktop/smoke_final/predictions/MOMENT2+MLP.csv\", sep=\",\", header=0).iloc[:,-1]\n",
    "mlp = []\n",
    "for i in mlp_raw:\n",
    "    x = int(str(i)[1])\n",
    "    mlp.append(x)\n",
    "mlp\n",
    "\n",
    "linr_fpr, linr_tpr, linr_threshold = roc_curve(label, ols)\n",
    "linr_roc_auc = auc(linr_fpr, linr_tpr)\n",
    "print(\"Prediction AUC: \",linr_roc_auc)\n",
    "\n",
    "ridge_fpr, ridge_tpr, ridge_threshold = roc_curve(label, ridge)\n",
    "ridge_roc_auc = auc(ridge_fpr, ridge_tpr)\n",
    "print(\"prediction AUC: \",ridge_roc_auc)\n",
    "\n",
    "lasso_fpr, lasso_tpr, lasso_threshold = roc_curve(label, lasso)\n",
    "lasso_roc_auc = auc(lasso_fpr, lasso_tpr)\n",
    "print(\"prediction AUC: \",lasso_roc_auc)\n",
    "\n",
    "elnet_fpr, elnet_tpr, elnet_threshold = roc_curve(label, elnet)\n",
    "elnet_roc_auc = auc(elnet_fpr, elnet_tpr)\n",
    "print(\"prediction AUC: \",elnet_roc_auc)\n",
    "\n",
    "svc_fpr, svc_tpr, svc_threshold = roc_curve(label, svc)\n",
    "svc_roc_auc = auc(svc_fpr, svc_tpr)\n",
    "print(\"prediction AUC: \",svc_roc_auc)\n",
    "\n",
    "rf_fpr, rf_tpr, rf_threshold = roc_curve(label, rf)\n",
    "rf_roc_auc = auc(rf_fpr, rf_tpr)\n",
    "print(\"prediction AUC: \",rf_roc_auc)\n",
    "\n",
    "gbm_fpr, gbm_tpr, gbm_threshold = roc_curve(label, gbm)\n",
    "gbm_roc_auc = auc(gbm_fpr, gbm_tpr)\n",
    "print(\"prediction AUC: \",gbm_roc_auc)\n",
    "\n",
    "mlp_fpr, mlp_tpr, mlp_threshold = roc_curve(label, mlp)\n",
    "mlp_roc_auc = auc(mlp_fpr, mlp_tpr)\n",
    "print(\"prediction AUC: \",mlp_roc_auc)\n",
    "\n",
    "lw = 1\n",
    "plt.figure(figsize=[10,10], dpi=300)\n",
    "plt.title('ROC curve', size= 17)\n",
    "plt.plot(linr_fpr, linr_tpr, color = 'black', lw = lw, label = 'MOMENT2 + OLS (AUC = %0.3f)' % linr_roc_auc)\n",
    "plt.plot(ridge_fpr, ridge_tpr, color = 'b', lw = lw, label = 'MOMENT2 + Ridge (AUC = %0.3f)' % ridge_roc_auc)\n",
    "plt.plot(lasso_fpr, lasso_tpr, color = 'g', lw = lw, label = 'MOMENT2 + Lasso (AUC = %0.3f)' % lasso_roc_auc)\n",
    "plt.plot(elnet_fpr, elnet_tpr, color = 'r', lw = lw, label = 'MOMENT2 + ElasticNet (AUC = %0.3f)' % elnet_roc_auc)\n",
    "plt.plot(svc_fpr, svc_tpr, color = 'c', lw = lw, label = 'MOMENT2 + SVM (AUC = %0.3f)' % svc_roc_auc)\n",
    "plt.plot(rf_fpr, rf_tpr, color = 'm', lw = lw, label = 'MOMENT2 + RF (AUC = %0.3f)' % rf_roc_auc)\n",
    "plt.plot(gbm_fpr, gbm_tpr, color = 'y', lw = lw, label = 'MOMENT2 + GBM (AUC = %0.3f)' % gbm_roc_auc)\n",
    "plt.plot(mlp_fpr, mlp_tpr, color = 'darkorange', lw = lw, label = 'MOMENT2 + MLP (AUC = %0.3f)' % mlp_roc_auc)\n",
    "plt.plot([0, 1], [0, 1],'r--', color = 'grey')\n",
    "plt.legend(loc = 'lower right')\n",
    "plt.xlim([0, 1])\n",
    "plt.ylim([0, 1])\n",
    "plt.ylabel('True Positive Rate', size= 17)\n",
    "plt.xlabel('False Positive Rate (1 - Specificity)', size= 17)\n",
    "plt.savefig(\"/Users/qianxiaoyu/Desktop/smoke_final/roc/moment2_ROC.png\")\n",
    "plt.show()"
   ]
  },
  {
   "cell_type": "code",
   "execution_count": null,
   "metadata": {},
   "outputs": [],
   "source": []
  }
 ],
 "metadata": {
  "kernelspec": {
   "display_name": "Python 3",
   "language": "python",
   "name": "python3"
  },
  "language_info": {
   "codemirror_mode": {
    "name": "ipython",
    "version": 3
   },
   "file_extension": ".py",
   "mimetype": "text/x-python",
   "name": "python",
   "nbconvert_exporter": "python",
   "pygments_lexer": "ipython3",
   "version": "3.7.3"
  }
 },
 "nbformat": 4,
 "nbformat_minor": 2
}
